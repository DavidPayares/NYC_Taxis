{
  "nbformat": 4,
  "nbformat_minor": 0,
  "metadata": {
    "colab": {
      "name": "Copia de Crimes",
      "provenance": [],
      "collapsed_sections": [],
      "machine_shape": "hm"
    },
    "kernelspec": {
      "name": "python3",
      "display_name": "Python 3"
    }
  },
  "cells": [
    {
      "cell_type": "markdown",
      "metadata": {
        "id": "5lhYDGc4zmTD"
      },
      "source": [
        "# Libraries"
      ]
    },
    {
      "cell_type": "code",
      "metadata": {
        "id": "E6VU8Z2-npqT"
      },
      "source": [
        "import os\n",
        "import glob\n",
        "import zipfile\n",
        "import pandas as pd\n",
        "import numpy as np\n",
        "import seaborn as sns\n",
        "import datetime\n",
        "import matplotlib.pyplot as plt\n",
        "import statsmodels.api as sm\n",
        "from sklearn.model_selection import train_test_split\n",
        "from sklearn.linear_model import LinearRegression\n",
        "from sklearn.metrics import mean_squared_error\n",
        "from sklearn.ensemble import RandomForestRegressor"
      ],
      "execution_count": 1,
      "outputs": []
    },
    {
      "cell_type": "markdown",
      "metadata": {
        "id": "joXVoEoez4MT"
      },
      "source": [
        "# 3. Model Building"
      ]
    },
    {
      "cell_type": "markdown",
      "metadata": {
        "id": "yHnkLW3gkEI2"
      },
      "source": [
        "## 3.1. Data loading"
      ]
    },
    {
      "cell_type": "code",
      "metadata": {
        "colab": {
          "base_uri": "https://localhost:8080/"
        },
        "id": "ngTDtU08pYU5",
        "outputId": "0cc57294-4819-49a2-9546-16bf96dc1578"
      },
      "source": [
        "from google.colab import drive\n",
        "drive.mount('/content/drive')\n",
        "os.chdir('/content/drive/MyDrive/CARTO/data')"
      ],
      "execution_count": 2,
      "outputs": [
        {
          "output_type": "stream",
          "text": [
            "Drive already mounted at /content/drive; to attempt to forcibly remount, call drive.mount(\"/content/drive\", force_remount=True).\n"
          ],
          "name": "stdout"
        }
      ]
    },
    {
      "cell_type": "code",
      "metadata": {
        "colab": {
          "base_uri": "https://localhost:8080/",
          "height": 224
        },
        "id": "qyo06VBXOpuw",
        "outputId": "7567e833-a3d2-4c42-b63c-ccca45ebd2d8"
      },
      "source": [
        "# Load data\n",
        "taxi_df = pd.read_csv(\"taxi_data_cleaned.csv\")\n",
        "# Visualize data\n",
        "taxi_df.head()"
      ],
      "execution_count": 3,
      "outputs": [
        {
          "output_type": "execute_result",
          "data": {
            "text/html": [
              "<div>\n",
              "<style scoped>\n",
              "    .dataframe tbody tr th:only-of-type {\n",
              "        vertical-align: middle;\n",
              "    }\n",
              "\n",
              "    .dataframe tbody tr th {\n",
              "        vertical-align: top;\n",
              "    }\n",
              "\n",
              "    .dataframe thead th {\n",
              "        text-align: right;\n",
              "    }\n",
              "</style>\n",
              "<table border=\"1\" class=\"dataframe\">\n",
              "  <thead>\n",
              "    <tr style=\"text-align: right;\">\n",
              "      <th></th>\n",
              "      <th>VendorID</th>\n",
              "      <th>tpep_pickup_datetime</th>\n",
              "      <th>tpep_dropoff_datetime</th>\n",
              "      <th>passenger_count</th>\n",
              "      <th>trip_distance</th>\n",
              "      <th>RatecodeID</th>\n",
              "      <th>store_and_fwd_flag</th>\n",
              "      <th>PULocationID</th>\n",
              "      <th>DOLocationID</th>\n",
              "      <th>payment_type</th>\n",
              "      <th>fare_amount</th>\n",
              "      <th>extra</th>\n",
              "      <th>mta_tax</th>\n",
              "      <th>tip_amount</th>\n",
              "      <th>tolls_amount</th>\n",
              "      <th>improvement_surcharge</th>\n",
              "      <th>total_amount</th>\n",
              "      <th>duration</th>\n",
              "      <th>pu_hour</th>\n",
              "      <th>do_hour</th>\n",
              "      <th>peak_hour</th>\n",
              "      <th>pu_day</th>\n",
              "      <th>do_day</th>\n",
              "      <th>trip_car</th>\n",
              "    </tr>\n",
              "  </thead>\n",
              "  <tbody>\n",
              "    <tr>\n",
              "      <th>0</th>\n",
              "      <td>2</td>\n",
              "      <td>2017-03-09 21:30:11</td>\n",
              "      <td>2017-03-09 21:44:20</td>\n",
              "      <td>1.0</td>\n",
              "      <td>4.06</td>\n",
              "      <td>1</td>\n",
              "      <td>N</td>\n",
              "      <td>148</td>\n",
              "      <td>48</td>\n",
              "      <td>1</td>\n",
              "      <td>14.0</td>\n",
              "      <td>0.5</td>\n",
              "      <td>0.5</td>\n",
              "      <td>3.06</td>\n",
              "      <td>0.0</td>\n",
              "      <td>0.3</td>\n",
              "      <td>18.36</td>\n",
              "      <td>849.0</td>\n",
              "      <td>22</td>\n",
              "      <td>22</td>\n",
              "      <td>False</td>\n",
              "      <td>3</td>\n",
              "      <td>3</td>\n",
              "      <td>0</td>\n",
              "    </tr>\n",
              "    <tr>\n",
              "      <th>1</th>\n",
              "      <td>2</td>\n",
              "      <td>2017-03-09 22:01:08</td>\n",
              "      <td>2017-03-09 22:11:16</td>\n",
              "      <td>1.0</td>\n",
              "      <td>2.27</td>\n",
              "      <td>1</td>\n",
              "      <td>N</td>\n",
              "      <td>79</td>\n",
              "      <td>162</td>\n",
              "      <td>1</td>\n",
              "      <td>10.0</td>\n",
              "      <td>0.5</td>\n",
              "      <td>0.5</td>\n",
              "      <td>2.82</td>\n",
              "      <td>0.0</td>\n",
              "      <td>0.3</td>\n",
              "      <td>14.12</td>\n",
              "      <td>608.0</td>\n",
              "      <td>23</td>\n",
              "      <td>23</td>\n",
              "      <td>False</td>\n",
              "      <td>3</td>\n",
              "      <td>3</td>\n",
              "      <td>0</td>\n",
              "    </tr>\n",
              "    <tr>\n",
              "      <th>2</th>\n",
              "      <td>2</td>\n",
              "      <td>2017-03-09 22:16:05</td>\n",
              "      <td>2017-03-10 06:26:11</td>\n",
              "      <td>1.0</td>\n",
              "      <td>3.86</td>\n",
              "      <td>1</td>\n",
              "      <td>N</td>\n",
              "      <td>237</td>\n",
              "      <td>41</td>\n",
              "      <td>1</td>\n",
              "      <td>12.0</td>\n",
              "      <td>0.5</td>\n",
              "      <td>0.5</td>\n",
              "      <td>3.99</td>\n",
              "      <td>0.0</td>\n",
              "      <td>0.3</td>\n",
              "      <td>17.29</td>\n",
              "      <td>29406.0</td>\n",
              "      <td>23</td>\n",
              "      <td>7</td>\n",
              "      <td>False</td>\n",
              "      <td>3</td>\n",
              "      <td>4</td>\n",
              "      <td>0</td>\n",
              "    </tr>\n",
              "    <tr>\n",
              "      <th>3</th>\n",
              "      <td>1</td>\n",
              "      <td>2017-03-01 00:00:00</td>\n",
              "      <td>2017-03-01 00:14:22</td>\n",
              "      <td>1.0</td>\n",
              "      <td>2.80</td>\n",
              "      <td>1</td>\n",
              "      <td>N</td>\n",
              "      <td>261</td>\n",
              "      <td>79</td>\n",
              "      <td>1</td>\n",
              "      <td>12.5</td>\n",
              "      <td>0.5</td>\n",
              "      <td>0.5</td>\n",
              "      <td>1.00</td>\n",
              "      <td>0.0</td>\n",
              "      <td>0.3</td>\n",
              "      <td>14.80</td>\n",
              "      <td>862.0</td>\n",
              "      <td>1</td>\n",
              "      <td>1</td>\n",
              "      <td>False</td>\n",
              "      <td>2</td>\n",
              "      <td>2</td>\n",
              "      <td>0</td>\n",
              "    </tr>\n",
              "    <tr>\n",
              "      <th>4</th>\n",
              "      <td>1</td>\n",
              "      <td>2017-03-01 00:00:00</td>\n",
              "      <td>2017-03-01 00:19:30</td>\n",
              "      <td>1.0</td>\n",
              "      <td>6.00</td>\n",
              "      <td>1</td>\n",
              "      <td>N</td>\n",
              "      <td>87</td>\n",
              "      <td>142</td>\n",
              "      <td>1</td>\n",
              "      <td>19.5</td>\n",
              "      <td>0.5</td>\n",
              "      <td>0.5</td>\n",
              "      <td>3.50</td>\n",
              "      <td>0.0</td>\n",
              "      <td>0.3</td>\n",
              "      <td>24.30</td>\n",
              "      <td>1170.0</td>\n",
              "      <td>1</td>\n",
              "      <td>1</td>\n",
              "      <td>False</td>\n",
              "      <td>2</td>\n",
              "      <td>2</td>\n",
              "      <td>0</td>\n",
              "    </tr>\n",
              "  </tbody>\n",
              "</table>\n",
              "</div>"
            ],
            "text/plain": [
              "   VendorID tpep_pickup_datetime  ... do_day  trip_car\n",
              "0         2  2017-03-09 21:30:11  ...      3         0\n",
              "1         2  2017-03-09 22:01:08  ...      3         0\n",
              "2         2  2017-03-09 22:16:05  ...      4         0\n",
              "3         1  2017-03-01 00:00:00  ...      2         0\n",
              "4         1  2017-03-01 00:00:00  ...      2         0\n",
              "\n",
              "[5 rows x 24 columns]"
            ]
          },
          "metadata": {
            "tags": []
          },
          "execution_count": 3
        }
      ]
    },
    {
      "cell_type": "markdown",
      "metadata": {
        "id": "F7prsYSlg5ml"
      },
      "source": [
        "## 3.2. Data preparing"
      ]
    },
    {
      "cell_type": "code",
      "metadata": {
        "id": "BeUnK9KnQTld"
      },
      "source": [
        "# Select variables to use a regressor\n",
        "taxi_df_mod = taxi_df[['passenger_count','trip_distance','duration','trip_car','PULocationID','DOLocationID',\n",
        "                   'fare_amount','extra','mta_tax','tip_amount', 'tolls_amount',\n",
        "                   'total_amount','pu_hour','do_hour','peak_hour','pu_day','do_day']]"
      ],
      "execution_count": 4,
      "outputs": []
    },
    {
      "cell_type": "code",
      "metadata": {
        "id": "iO9WJOv1XaTE"
      },
      "source": [
        "# Define categorical variables\n",
        "categorical_variables = ['trip_car','pu_hour','do_hour','peak_hour','pu_day','do_day']"
      ],
      "execution_count": 5,
      "outputs": []
    },
    {
      "cell_type": "code",
      "metadata": {
        "colab": {
          "base_uri": "https://localhost:8080/"
        },
        "id": "3EIgONJLXq3y",
        "outputId": "2af0a753-60f2-47fd-bd84-2571d75c9f63"
      },
      "source": [
        "# Redefine categorical variables\n",
        "for field in categorical_variables:\n",
        "  taxi_df_mod[field] = taxi_df_mod[field].astype('category',copy=False)"
      ],
      "execution_count": 6,
      "outputs": [
        {
          "output_type": "stream",
          "text": [
            "/usr/local/lib/python3.7/dist-packages/ipykernel_launcher.py:2: SettingWithCopyWarning: \n",
            "A value is trying to be set on a copy of a slice from a DataFrame.\n",
            "Try using .loc[row_indexer,col_indexer] = value instead\n",
            "\n",
            "See the caveats in the documentation: https://pandas.pydata.org/pandas-docs/stable/user_guide/indexing.html#returning-a-view-versus-a-copy\n",
            "  \n"
          ],
          "name": "stderr"
        }
      ]
    },
    {
      "cell_type": "code",
      "metadata": {
        "id": "XIfxNR7PUCfV"
      },
      "source": [
        "# Divide data in dependent variable and covariates\n",
        "y = taxi_df_mod['tip_amount']\n",
        "x = taxi_df_mod[['passenger_count','trip_distance','duration','trip_car','PULocationID','DOLocationID',\n",
        "                   'fare_amount','extra','mta_tax', 'tolls_amount',\n",
        "                   'total_amount','pu_hour','do_hour','peak_hour','pu_day','do_day']]"
      ],
      "execution_count": 7,
      "outputs": []
    },
    {
      "cell_type": "code",
      "metadata": {
        "id": "9ymSAw_9Yv5w"
      },
      "source": [
        "# Apply encoding to categorical variables\n",
        "x = pd.get_dummies(data = x)"
      ],
      "execution_count": 8,
      "outputs": []
    },
    {
      "cell_type": "code",
      "metadata": {
        "colab": {
          "base_uri": "https://localhost:8080/"
        },
        "id": "pNsPjxJ5cAoN",
        "outputId": "f5add92f-746c-4510-e600-31d261ae6ce3"
      },
      "source": [
        "# Check types\n",
        "x.dtypes"
      ],
      "execution_count": 9,
      "outputs": [
        {
          "output_type": "execute_result",
          "data": {
            "text/plain": [
              "passenger_count    float64\n",
              "trip_distance      float64\n",
              "duration           float64\n",
              "PULocationID         int64\n",
              "DOLocationID         int64\n",
              "                    ...   \n",
              "do_day_2             uint8\n",
              "do_day_3             uint8\n",
              "do_day_4             uint8\n",
              "do_day_5             uint8\n",
              "do_day_6             uint8\n",
              "Length: 76, dtype: object"
            ]
          },
          "metadata": {
            "tags": []
          },
          "execution_count": 9
        }
      ]
    },
    {
      "cell_type": "code",
      "metadata": {
        "id": "-yjaU0m2dLbQ"
      },
      "source": [
        "del taxi_df_mod\n",
        "del taxi_df"
      ],
      "execution_count": 10,
      "outputs": []
    },
    {
      "cell_type": "code",
      "metadata": {
        "id": "2wOWfxAzS3FO"
      },
      "source": [
        "# Slit data in test and training data\n",
        "X_train, X_test, y_train, y_test = train_test_split(x, y, test_size=0.2, random_state=101)"
      ],
      "execution_count": 11,
      "outputs": []
    },
    {
      "cell_type": "code",
      "metadata": {
        "id": "8QhcXWWPdklU"
      },
      "source": [
        "del x\n",
        "del y"
      ],
      "execution_count": 12,
      "outputs": []
    },
    {
      "cell_type": "code",
      "metadata": {
        "colab": {
          "base_uri": "https://localhost:8080/"
        },
        "id": "_YOlK6_aUS4x",
        "outputId": "be34636c-8e9b-469b-d614-c341ac472412"
      },
      "source": [
        "# Check dimensions\n",
        "print(X_train.shape)\n",
        "print(X_test.shape)\n",
        "print(y_train.shape)\n",
        "print(y_test.shape)"
      ],
      "execution_count": 13,
      "outputs": [
        {
          "output_type": "stream",
          "text": [
            "(10633083, 76)\n",
            "(2658271, 76)\n",
            "(10633083,)\n",
            "(2658271,)\n"
          ],
          "name": "stdout"
        }
      ]
    },
    {
      "cell_type": "markdown",
      "metadata": {
        "id": "RuYBWw4kg-f7"
      },
      "source": [
        "# 3.3. Multiple Linear regression\n",
        "\n",
        "In our data exploration and summary, we already found that most of the variables correlate directly with the tip amount. Likewise, we analyzed the influence of space and time in the tip amount, and we discovered that the variable is strongly affected by these. However, in space, we have the change of support problem, in which we can not aggregate the points to predict the tip amount per new york zones. The prediction of the tip amount must be performed per each trip and not per zone.  We already derived some variables such as day and hour of both pick up and drop off times in time. According to our exploratory analysis, these two variables might explain the tip amount.\n",
        "\n",
        "Since using a Spatio-temporal model does not look like a realistic option, and considering, the amount of data we want to use for training our model, we will initially use a powerfull but straightforward model: an ordinary least squares (OLS) regression. \n",
        "\n",
        "But why a linear regression model instead of more sophisticated statistics models (spatial autoregressive models, general mixed linear models, geographically weighted regression, conditional autoregressive models), or even machine learning approaches (deep neural networks, random forest, decision tree model)?\n",
        "\n",
        "In regression problems, often, the most straightforward answer is the correct one. As our data exhibit strong linear relationships, an OLS regression could indeed explain it. If an OLS regression is not enough to predict the tip amount, at least we will identify the significance and importance of the variables. This will be useful for applying other models.\n",
        "\n",
        "So, let's start with a basic regression and hope it works!\n"
      ]
    },
    {
      "cell_type": "code",
      "metadata": {
        "colab": {
          "base_uri": "https://localhost:8080/"
        },
        "id": "IcZXoiOOUWO0",
        "outputId": "4a042d77-648f-440c-c2c5-2788f80f6dc3"
      },
      "source": [
        "# Define and train regressor\n",
        "model = LinearRegression()\n",
        "model.fit(X_train,y_train)"
      ],
      "execution_count": 14,
      "outputs": [
        {
          "output_type": "execute_result",
          "data": {
            "text/plain": [
              "LinearRegression(copy_X=True, fit_intercept=True, n_jobs=None, normalize=False)"
            ]
          },
          "metadata": {
            "tags": []
          },
          "execution_count": 14
        }
      ]
    },
    {
      "cell_type": "code",
      "metadata": {
        "colab": {
          "base_uri": "https://localhost:8080/",
          "height": 419
        },
        "id": "kgGJQ_6sUaXl",
        "outputId": "61e6ee8a-0238-46c8-e0ef-6d69e759a3a6"
      },
      "source": [
        "# Check coeffcients parameters\n",
        "coeff_parameter = pd.DataFrame(model.coef_,X_train.columns,columns=['Coefficient'])\n",
        "coeff_parameter"
      ],
      "execution_count": 19,
      "outputs": [
        {
          "output_type": "execute_result",
          "data": {
            "text/html": [
              "<div>\n",
              "<style scoped>\n",
              "    .dataframe tbody tr th:only-of-type {\n",
              "        vertical-align: middle;\n",
              "    }\n",
              "\n",
              "    .dataframe tbody tr th {\n",
              "        vertical-align: top;\n",
              "    }\n",
              "\n",
              "    .dataframe thead th {\n",
              "        text-align: right;\n",
              "    }\n",
              "</style>\n",
              "<table border=\"1\" class=\"dataframe\">\n",
              "  <thead>\n",
              "    <tr style=\"text-align: right;\">\n",
              "      <th></th>\n",
              "      <th>Coefficient</th>\n",
              "    </tr>\n",
              "  </thead>\n",
              "  <tbody>\n",
              "    <tr>\n",
              "      <th>passenger_count</th>\n",
              "      <td>-1.041973e-03</td>\n",
              "    </tr>\n",
              "    <tr>\n",
              "      <th>trip_distance</th>\n",
              "      <td>2.239076e-04</td>\n",
              "    </tr>\n",
              "    <tr>\n",
              "      <th>duration</th>\n",
              "      <td>-1.881895e-08</td>\n",
              "    </tr>\n",
              "    <tr>\n",
              "      <th>PULocationID</th>\n",
              "      <td>8.247648e-06</td>\n",
              "    </tr>\n",
              "    <tr>\n",
              "      <th>DOLocationID</th>\n",
              "      <td>7.639257e-06</td>\n",
              "    </tr>\n",
              "    <tr>\n",
              "      <th>...</th>\n",
              "      <td>...</td>\n",
              "    </tr>\n",
              "    <tr>\n",
              "      <th>do_day_2</th>\n",
              "      <td>-5.606184e-05</td>\n",
              "    </tr>\n",
              "    <tr>\n",
              "      <th>do_day_3</th>\n",
              "      <td>7.175315e-04</td>\n",
              "    </tr>\n",
              "    <tr>\n",
              "      <th>do_day_4</th>\n",
              "      <td>1.498705e-03</td>\n",
              "    </tr>\n",
              "    <tr>\n",
              "      <th>do_day_5</th>\n",
              "      <td>1.305286e-03</td>\n",
              "    </tr>\n",
              "    <tr>\n",
              "      <th>do_day_6</th>\n",
              "      <td>-1.936039e-03</td>\n",
              "    </tr>\n",
              "  </tbody>\n",
              "</table>\n",
              "<p>76 rows × 1 columns</p>\n",
              "</div>"
            ],
            "text/plain": [
              "                  Coefficient\n",
              "passenger_count -1.041973e-03\n",
              "trip_distance    2.239076e-04\n",
              "duration        -1.881895e-08\n",
              "PULocationID     8.247648e-06\n",
              "DOLocationID     7.639257e-06\n",
              "...                       ...\n",
              "do_day_2        -5.606184e-05\n",
              "do_day_3         7.175315e-04\n",
              "do_day_4         1.498705e-03\n",
              "do_day_5         1.305286e-03\n",
              "do_day_6        -1.936039e-03\n",
              "\n",
              "[76 rows x 1 columns]"
            ]
          },
          "metadata": {
            "tags": []
          },
          "execution_count": 19
        }
      ]
    },
    {
      "cell_type": "code",
      "metadata": {
        "colab": {
          "base_uri": "https://localhost:8080/"
        },
        "id": "2t4evroKUeUB",
        "outputId": "faeef112-e223-4cf2-cbb2-3fa9ba470d02"
      },
      "source": [
        "# Predict unseen data\n",
        "predictions = model.predict(X_test)\n",
        "predictions"
      ],
      "execution_count": 16,
      "outputs": [
        {
          "output_type": "execute_result",
          "data": {
            "text/plain": [
              "array([2.65590486, 2.04512928, 1.00003516, ..., 7.30659996, 3.64708474,\n",
              "       1.64696933])"
            ]
          },
          "metadata": {
            "tags": []
          },
          "execution_count": 16
        }
      ]
    },
    {
      "cell_type": "code",
      "metadata": {
        "colab": {
          "base_uri": "https://localhost:8080/",
          "height": 282
        },
        "id": "5gnuzXu-ge25",
        "outputId": "26745a9e-5536-402a-ff97-6d05024b4c8b"
      },
      "source": [
        "# test data vs predictions\n",
        "plt.plot(predictions, y_test)"
      ],
      "execution_count": 22,
      "outputs": [
        {
          "output_type": "execute_result",
          "data": {
            "text/plain": [
              "[<matplotlib.lines.Line2D at 0x7f941104d8d0>]"
            ]
          },
          "metadata": {
            "tags": []
          },
          "execution_count": 22
        },
        {
          "output_type": "display_data",
          "data": {
            "image/png": "[encoded data removed]",
            "text/plain": [
              "<Figure size 432x288 with 1 Axes>"
            ]
          },
          "metadata": {
            "tags": [],
            "needs_background": "light"
          }
        }
      ]
    },
    {
      "cell_type": "markdown",
      "metadata": {
        "id": "spCFDIhsoHm5"
      },
      "source": [
        "It looks excellent! Our model was able to predict the tip amount based on the covariates we chose. \n",
        "\n",
        "Let's corroborate our visual conclusion with some statistics."
      ]
    },
    {
      "cell_type": "code",
      "metadata": {
        "colab": {
          "base_uri": "https://localhost:8080/"
        },
        "id": "NN9vY5HhUoyx",
        "outputId": "9a9e714d-f420-406c-808d-c9ef79c60c6b"
      },
      "source": [
        "# Linear model for test data\n",
        "X_test_Sm= sm.add_constant(X_test)\n",
        "ls=sm.OLS(y_test,X_test_Sm).fit()\n",
        "print(ls.summary())"
      ],
      "execution_count": 21,
      "outputs": [
        {
          "output_type": "stream",
          "text": [
            "                            OLS Regression Results                            \n",
            "==============================================================================\n",
            "Dep. Variable:             tip_amount   R-squared:                       0.998\n",
            "Model:                            OLS   Adj. R-squared:                  0.998\n",
            "Method:                 Least Squares   F-statistic:                 2.405e+07\n",
            "Date:                Tue, 27 Apr 2021   Prob (F-statistic):               0.00\n",
            "Time:                        18:02:10   Log-Likelihood:             2.1568e+06\n",
            "No. Observations:             2658271   AIC:                        -4.314e+06\n",
            "Df Residuals:                 2658201   BIC:                        -4.313e+06\n",
            "Df Model:                          69                                         \n",
            "Covariance Type:            nonrobust                                         \n",
            "===================================================================================\n",
            "                      coef    std err          t      P>|t|      [0.025      0.975]\n",
            "-----------------------------------------------------------------------------------\n",
            "const              -0.1307      0.002    -86.919      0.000      -0.134      -0.128\n",
            "passenger_count    -0.0012   5.26e-05    -22.668      0.000      -0.001      -0.001\n",
            "trip_distance       0.0002   4.55e-05      4.054      0.000    9.52e-05       0.000\n",
            "duration        -4.049e-08   2.08e-08     -1.945      0.052   -8.13e-08    3.02e-10\n",
            "PULocationID     7.131e-06   1.01e-06      7.069      0.000    5.15e-06    9.11e-06\n",
            "DOLocationID     8.263e-06    9.5e-07      8.698      0.000     6.4e-06    1.01e-05\n",
            "fare_amount        -0.9956   4.71e-05  -2.12e+04      0.000      -0.996      -0.996\n",
            "extra              -0.9942      0.000  -4519.762      0.000      -0.995      -0.994\n",
            "mta_tax            -0.9929      0.002   -441.330      0.000      -0.997      -0.989\n",
            "tolls_amount       -0.9946   7.59e-05  -1.31e+04      0.000      -0.995      -0.994\n",
            "total_amount        0.9961   3.98e-05    2.5e+04      0.000       0.996       0.996\n",
            "trip_car_0         -0.0551      0.003    -20.190      0.000      -0.060      -0.050\n",
            "trip_car_1         -0.0756      0.004    -18.244      0.000      -0.084      -0.067\n",
            "pu_hour_1          -0.0079      0.001     -6.540      0.000      -0.010      -0.006\n",
            "pu_hour_2          -0.0078      0.001     -5.792      0.000      -0.010      -0.005\n",
            "pu_hour_3          -0.0082      0.002     -5.292      0.000      -0.011      -0.005\n",
            "pu_hour_4          -0.0095      0.002     -5.585      0.000      -0.013      -0.006\n",
            "pu_hour_5          -0.0246      0.001    -19.612      0.000      -0.027      -0.022\n",
            "pu_hour_6          -0.0229      0.001    -19.578      0.000      -0.025      -0.021\n",
            "pu_hour_7          -0.0093      0.001     -6.332      0.000      -0.012      -0.006\n",
            "pu_hour_8          -0.0046      0.001     -3.413      0.001      -0.007      -0.002\n",
            "pu_hour_9           0.0005      0.001      0.375      0.708      -0.002       0.003\n",
            "pu_hour_10          0.0040      0.001      3.404      0.001       0.002       0.006\n",
            "pu_hour_11          0.0047      0.001      4.192      0.000       0.002       0.007\n",
            "pu_hour_12          0.0030      0.001      2.824      0.005       0.001       0.005\n",
            "pu_hour_13          0.0013      0.001      1.260      0.208      -0.001       0.003\n",
            "pu_hour_14         -0.0002      0.001     -0.201      0.841      -0.002       0.002\n",
            "pu_hour_15         -0.0013      0.001     -1.359      0.174      -0.003       0.001\n",
            "pu_hour_16         -0.0022      0.001     -2.346      0.019      -0.004      -0.000\n",
            "pu_hour_17         -0.0127      0.001     -9.924      0.000      -0.015      -0.010\n",
            "pu_hour_18         -0.0033      0.001     -3.563      0.000      -0.005      -0.001\n",
            "pu_hour_19         -0.0042      0.001     -4.474      0.000      -0.006      -0.002\n",
            "pu_hour_20         -0.0039      0.001     -4.160      0.000      -0.006      -0.002\n",
            "pu_hour_21         -0.0038      0.001     -3.921      0.000      -0.006      -0.002\n",
            "pu_hour_22         -0.0050      0.001     -4.878      0.000      -0.007      -0.003\n",
            "pu_hour_23         -0.0058      0.001     -5.470      0.000      -0.008      -0.004\n",
            "pu_hour_24         -0.0069      0.001     -6.135      0.000      -0.009      -0.005\n",
            "do_hour_1           0.0007      0.001      0.550      0.582      -0.002       0.003\n",
            "do_hour_2           0.0011      0.001      0.823      0.411      -0.002       0.004\n",
            "do_hour_3           0.0011      0.002      0.748      0.454      -0.002       0.004\n",
            "do_hour_4           0.0022      0.002      1.353      0.176      -0.001       0.005\n",
            "do_hour_5           0.0015      0.002      0.890      0.373      -0.002       0.005\n",
            "do_hour_6          -0.0055      0.002     -3.339      0.001      -0.009      -0.002\n",
            "do_hour_7          -0.0071      0.001     -4.878      0.000      -0.010      -0.004\n",
            "do_hour_8          -0.0102      0.001     -7.740      0.000      -0.013      -0.008\n",
            "do_hour_9          -0.0163      0.001    -13.128      0.000      -0.019      -0.014\n",
            "do_hour_10         -0.0152      0.001    -12.872      0.000      -0.018      -0.013\n",
            "do_hour_11         -0.0127      0.001    -11.331      0.000      -0.015      -0.011\n",
            "do_hour_12         -0.0108      0.001    -10.127      0.000      -0.013      -0.009\n",
            "do_hour_13         -0.0081      0.001     -7.907      0.000      -0.010      -0.006\n",
            "do_hour_14         -0.0071      0.001     -7.237      0.000      -0.009      -0.005\n",
            "do_hour_15         -0.0053      0.001     -5.564      0.000      -0.007      -0.003\n",
            "do_hour_16         -0.0052      0.001     -5.435      0.000      -0.007      -0.003\n",
            "do_hour_17         -0.0062      0.001     -6.595      0.000      -0.008      -0.004\n",
            "do_hour_18         -0.0075      0.001     -7.928      0.000      -0.009      -0.006\n",
            "do_hour_19         -0.0061      0.001     -6.328      0.000      -0.008      -0.004\n",
            "do_hour_20         -0.0053      0.001     -5.433      0.000      -0.007      -0.003\n",
            "do_hour_21         -0.0041      0.001     -4.034      0.000      -0.006      -0.002\n",
            "do_hour_22         -0.0022      0.001     -2.102      0.036      -0.004      -0.000\n",
            "do_hour_23         -0.0018      0.001     -1.611      0.107      -0.004       0.000\n",
            "do_hour_24         -0.0004      0.001     -0.350      0.726      -0.003       0.002\n",
            "peak_hour_False    -0.0704      0.001    -78.305      0.000      -0.072      -0.069\n",
            "peak_hour_True     -0.0603      0.001    -73.863      0.000      -0.062      -0.059\n",
            "pu_day_0           -0.0182      0.002    -11.696      0.000      -0.021      -0.015\n",
            "pu_day_1           -0.0201      0.002    -12.895      0.000      -0.023      -0.017\n",
            "pu_day_2           -0.0180      0.001    -12.644      0.000      -0.021      -0.015\n",
            "pu_day_3           -0.0193      0.001    -15.530      0.000      -0.022      -0.017\n",
            "pu_day_4           -0.0197      0.001    -17.123      0.000      -0.022      -0.017\n",
            "pu_day_5           -0.0185      0.001    -15.207      0.000      -0.021      -0.016\n",
            "pu_day_6           -0.0168      0.001    -11.808      0.000      -0.020      -0.014\n",
            "do_day_0           -0.0191      0.002    -12.236      0.000      -0.022      -0.016\n",
            "do_day_1           -0.0175      0.002    -11.218      0.000      -0.021      -0.014\n",
            "do_day_2           -0.0192      0.001    -13.444      0.000      -0.022      -0.016\n",
            "do_day_3           -0.0179      0.001    -14.427      0.000      -0.020      -0.016\n",
            "do_day_4           -0.0184      0.001    -16.033      0.000      -0.021      -0.016\n",
            "do_day_5           -0.0187      0.001    -15.350      0.000      -0.021      -0.016\n",
            "do_day_6           -0.0199      0.001    -14.000      0.000      -0.023      -0.017\n",
            "==============================================================================\n",
            "Omnibus:                  6348544.958   Durbin-Watson:                   1.999\n",
            "Prob(Omnibus):                  0.000   Jarque-Bera (JB):      64014711143.144\n",
            "Skew:                         -24.759   Prob(JB):                         0.00\n",
            "Kurtosis:                     761.617   Cond. No.                     2.54e+16\n",
            "==============================================================================\n",
            "\n",
            "Warnings:\n",
            "[1] Standard Errors assume that the covariance matrix of the errors is correctly specified.\n",
            "[2] The smallest eigenvalue is 4.78e-20. This might indicate that there are\n",
            "strong multicollinearity problems or that the design matrix is singular.\n"
          ],
          "name": "stdout"
        }
      ]
    },
    {
      "cell_type": "markdown",
      "metadata": {
        "id": "1lYCiB4LoeE-"
      },
      "source": [
        "Yes, our model predicts correctly 99% of the observations. We see that some variables are more important than other, and , that we can remove many since they are not contributing much."
      ]
    },
    {
      "cell_type": "code",
      "metadata": {
        "colab": {
          "base_uri": "https://localhost:8080/"
        },
        "id": "Kg1X6bVEUk5g",
        "outputId": "b1245059-e08e-4380-b946-cba46ec6bbbd"
      },
      "source": [
        "rms = mean_squared_error(y_test, predictions, squared=False)\n",
        "rms"
      ],
      "execution_count": 25,
      "outputs": [
        {
          "output_type": "execute_result",
          "data": {
            "text/plain": [
              "0.107497417591097"
            ]
          },
          "metadata": {
            "tags": []
          },
          "execution_count": 25
        }
      ]
    },
    {
      "cell_type": "markdown",
      "metadata": {
        "id": "grR-vNMSqGvO"
      },
      "source": [
        "The values are great, and it seems that we can now predict the tip amount. Howveer, a R2 values of almost 100 is very unlikely. \n",
        "\n",
        "Let's try another approach: a ramdom forest regressor."
      ]
    },
    {
      "cell_type": "markdown",
      "metadata": {
        "id": "pK3teU8eqQYZ"
      },
      "source": [
        "# 3.2. Random forest regression\n",
        "\n",
        "So our OLS regression works very well, but it looks too overconfident. If a complex regressor like random forest displays a similar accuracy to OLS regression, then we can trust this latter.  \n",
        "\n",
        "Let's try!\n"
      ]
    },
    {
      "cell_type": "code",
      "metadata": {
        "id": "C7VqyIyqQEky"
      },
      "source": [
        "# Random Forest regression\n",
        "regressor = RandomForestRegressor(n_estimators = 256, random_state = 0)\n",
        "regressor.fit(X_train,y_train)"
      ],
      "execution_count": null,
      "outputs": []
    },
    {
      "cell_type": "code",
      "metadata": {
        "id": "xW9GsrQ_h2k4"
      },
      "source": [
        "predictions_rf = regressor.predict(X_test)\n",
        "predictions_rf"
      ],
      "execution_count": null,
      "outputs": []
    },
    {
      "cell_type": "code",
      "metadata": {
        "id": "w0dzb9A0h9Yf"
      },
      "source": [
        "plt.plot(predictions_rf, y_test)"
      ],
      "execution_count": null,
      "outputs": []
    },
    {
      "cell_type": "markdown",
      "metadata": {
        "id": "iY0izq18rghr"
      },
      "source": [
        "# Summary\n",
        "\n",
        "We could predict the tips in the NYC  yellow taxis with an accuracy of 71.74% using OLS regression and XXXX using random forest. Both methods showed good performance, and minor problems were faced when modeling the data. \n",
        "\n",
        "We should emphasize how essential data cleaning and data exploration are.  It took almost 90% of the time. Good data is equal to good results. Furthermore, many analyses can be performed on this dataset, and more complex models (and also exploratory techniques) can apply to this rich data.\n"
      ]
    },
    {
      "cell_type": "markdown",
      "metadata": {
        "id": "-qHCF8l-rk4t"
      },
      "source": [
        "## Limitations\n",
        "\n",
        "*   No extra information about the trips. We believed that good results could also be obtained using variables related to the passengers since giving a tip depends mainly on the taxi users. Having this information can reduce the number of variables needed for our models. Likewise, information about the traffic, other vehicles, and even environmental variables!\n",
        "*   The amount of data is massive, and we only used information for three months. Most models require millions and millions of records to identify trends and correctly model any given variable. The computational cost is enormous. Most of the visualization, analyses, and models of this brief study used many of my laptop resources (especially the models.)\n",
        "*   Using data from many years to identify temporal short and long-term trends!\n",
        "\n",
        "\n",
        "\n"
      ]
    },
    {
      "cell_type": "markdown",
      "metadata": {
        "id": "fyc7vx8QrmEA"
      },
      "source": [
        "## Further Work\n",
        "\n",
        "*   Spatio-temporal model if coordinates of pick-ups and drop-offs are provided. There is enough temporal information in the data sets.\n",
        "*   Categorical model if tips can be encoded as discrete values.\n",
        "*   Predicting other exciting variables such as the possible number of passengers or the location and time in which a user will need a cab!\n",
        "\n",
        "\n"
      ]
    },
    {
      "cell_type": "markdown",
      "metadata": {
        "id": "mloSqgTMrpVM"
      },
      "source": [
        "## API\n",
        "\n",
        "*   data: The API would provide data. Although the taxi in NYC is available, it has many errors and noise. We will provide a clean dataset ready to use. Also, we will offer the user an easy-to-use and customizable way to access considerable amounts of data. Perhaps, the user only wants a couple of records and not the entire data set!\n",
        "*   models: The API would provide multiple models. We will share the trained models to obtain predictions with its data or the data from the API itself. We can as well offer models ready to train if the users need so.\n",
        "*  visualizations: The API would provide visualizations. Since a significant portion of data analysis comprises data visualization, we will supply the user with numerous visualizations. From bar charts to maps, we will facilitate the user's understanding of the data, and we will encourage him to create new ones.\n",
        "\n",
        "\n",
        "\n",
        "\n",
        "\n"
      ]
    }
  ]
}